{
 "cells": [
  {
   "cell_type": "code",
   "execution_count": 1,
   "id": "2be797d8",
   "metadata": {},
   "outputs": [],
   "source": [
    "import pandas as pd\n",
    "df = pd.read_csv('../data/eng_-french.csv')"
   ]
  },
  {
   "cell_type": "code",
   "execution_count": 2,
   "id": "8a148517",
   "metadata": {},
   "outputs": [
    {
     "data": {
      "application/vnd.microsoft.datawrangler.viewer.v0+json": {
       "columns": [
        {
         "name": "index",
         "rawType": "int64",
         "type": "integer"
        },
        {
         "name": "English words/sentences",
         "rawType": "object",
         "type": "string"
        },
        {
         "name": "French words/sentences",
         "rawType": "object",
         "type": "string"
        }
       ],
       "ref": "963f8acc-5e06-4d96-ab66-9b043ed69e2f",
       "rows": [
        [
         "0",
         "Hi.",
         "Salut!"
        ],
        [
         "1",
         "Run!",
         "Cours !"
        ],
        [
         "2",
         "Run!",
         "Courez !"
        ],
        [
         "3",
         "Who?",
         "Qui ?"
        ],
        [
         "4",
         "Wow!",
         "Ça alors !"
        ]
       ],
       "shape": {
        "columns": 2,
        "rows": 5
       }
      },
      "text/html": [
       "<div>\n",
       "<style scoped>\n",
       "    .dataframe tbody tr th:only-of-type {\n",
       "        vertical-align: middle;\n",
       "    }\n",
       "\n",
       "    .dataframe tbody tr th {\n",
       "        vertical-align: top;\n",
       "    }\n",
       "\n",
       "    .dataframe thead th {\n",
       "        text-align: right;\n",
       "    }\n",
       "</style>\n",
       "<table border=\"1\" class=\"dataframe\">\n",
       "  <thead>\n",
       "    <tr style=\"text-align: right;\">\n",
       "      <th></th>\n",
       "      <th>English words/sentences</th>\n",
       "      <th>French words/sentences</th>\n",
       "    </tr>\n",
       "  </thead>\n",
       "  <tbody>\n",
       "    <tr>\n",
       "      <th>0</th>\n",
       "      <td>Hi.</td>\n",
       "      <td>Salut!</td>\n",
       "    </tr>\n",
       "    <tr>\n",
       "      <th>1</th>\n",
       "      <td>Run!</td>\n",
       "      <td>Cours !</td>\n",
       "    </tr>\n",
       "    <tr>\n",
       "      <th>2</th>\n",
       "      <td>Run!</td>\n",
       "      <td>Courez !</td>\n",
       "    </tr>\n",
       "    <tr>\n",
       "      <th>3</th>\n",
       "      <td>Who?</td>\n",
       "      <td>Qui ?</td>\n",
       "    </tr>\n",
       "    <tr>\n",
       "      <th>4</th>\n",
       "      <td>Wow!</td>\n",
       "      <td>Ça alors !</td>\n",
       "    </tr>\n",
       "  </tbody>\n",
       "</table>\n",
       "</div>"
      ],
      "text/plain": [
       "  English words/sentences French words/sentences\n",
       "0                     Hi.                 Salut!\n",
       "1                    Run!                Cours !\n",
       "2                    Run!               Courez !\n",
       "3                    Who?                  Qui ?\n",
       "4                    Wow!             Ça alors !"
      ]
     },
     "execution_count": 2,
     "metadata": {},
     "output_type": "execute_result"
    }
   ],
   "source": [
    "df.head()"
   ]
  },
  {
   "cell_type": "code",
   "execution_count": 3,
   "id": "1035dd37",
   "metadata": {},
   "outputs": [
    {
     "data": {
      "application/vnd.microsoft.datawrangler.viewer.v0+json": {
       "columns": [
        {
         "name": "index",
         "rawType": "object",
         "type": "string"
        },
        {
         "name": "0",
         "rawType": "int64",
         "type": "integer"
        }
       ],
       "ref": "770af943-3b6d-48a3-a85f-05246ee1bb6e",
       "rows": [
        [
         "English words/sentences",
         "0"
        ],
        [
         "French words/sentences",
         "0"
        ]
       ],
       "shape": {
        "columns": 1,
        "rows": 2
       }
      },
      "text/plain": [
       "English words/sentences    0\n",
       "French words/sentences     0\n",
       "dtype: int64"
      ]
     },
     "execution_count": 3,
     "metadata": {},
     "output_type": "execute_result"
    }
   ],
   "source": [
    "df.isna().sum()"
   ]
  },
  {
   "cell_type": "code",
   "execution_count": 4,
   "id": "54d91530",
   "metadata": {},
   "outputs": [
    {
     "name": "stdout",
     "output_type": "stream",
     "text": [
      "<class 'pandas.core.frame.DataFrame'>\n",
      "RangeIndex: 175621 entries, 0 to 175620\n",
      "Data columns (total 2 columns):\n",
      " #   Column                   Non-Null Count   Dtype \n",
      "---  ------                   --------------   ----- \n",
      " 0   English words/sentences  175621 non-null  object\n",
      " 1   French words/sentences   175621 non-null  object\n",
      "dtypes: object(2)\n",
      "memory usage: 2.7+ MB\n"
     ]
    }
   ],
   "source": [
    "df.info()"
   ]
  },
  {
   "cell_type": "code",
   "execution_count": 5,
   "id": "60a3c192",
   "metadata": {},
   "outputs": [],
   "source": [
    "import re\n",
    "\n",
    "def tokenize_with_punctuation(text):\n",
    "    # This regex splits on words and punctuation, keeping both\n",
    "    return re.findall(r\"\\w+|[^\\w\\s]\", text, re.UNICODE)\n",
    "\n",
    "\n",
    "english_sentence = \" \".join(df['English words/sentences'])\n",
    "english_tokens = tokenize_with_punctuation(english_sentence)\n",
    "\n",
    "french_sentence = \" \".join(df['French words/sentences'])\n",
    "french_tokens = tokenize_with_punctuation(french_sentence)"
   ]
  },
  {
   "cell_type": "code",
   "execution_count": 6,
   "id": "b268eb9e",
   "metadata": {},
   "outputs": [
    {
     "name": "stdout",
     "output_type": "stream",
     "text": [
      "['Salut', '!', 'Cours', '!', 'Courez']\n"
     ]
    }
   ],
   "source": [
    "print(french_tokens[:5])"
   ]
  },
  {
   "cell_type": "code",
   "execution_count": 7,
   "id": "73e31160",
   "metadata": {},
   "outputs": [
    {
     "data": {
      "text/plain": [
       "25893"
      ]
     },
     "execution_count": 7,
     "metadata": {},
     "output_type": "execute_result"
    }
   ],
   "source": [
    "len(set(french_tokens))"
   ]
  },
  {
   "cell_type": "code",
   "execution_count": 8,
   "id": "b4d4a95c",
   "metadata": {},
   "outputs": [],
   "source": [
    "E_w_to_i = {k:i+2 for i, k in enumerate(set(english_tokens))}\n",
    "E_w_to_i ['sos'] = 0\n",
    "E_w_to_i ['eos'] = 1\n",
    "E_i_to_w = {i: k for k, i in E_w_to_i.items()}"
   ]
  },
  {
   "cell_type": "code",
   "execution_count": 9,
   "id": "f3cdb9ee",
   "metadata": {},
   "outputs": [],
   "source": [
    "F_w_to_i = {k:i+2 for i, k in enumerate(set(french_tokens))}\n",
    "F_w_to_i['sos'] = 0\n",
    "F_w_to_i['eos'] = 1\n",
    "F_i_to_w = {i: k for k, i in F_w_to_i.items()}"
   ]
  },
  {
   "cell_type": "code",
   "execution_count": 10,
   "id": "c35db310",
   "metadata": {},
   "outputs": [],
   "source": [
    "F_vocab_size = len(F_i_to_w.values())\n",
    "E_vocab_size = len(E_i_to_w.values())"
   ]
  },
  {
   "cell_type": "code",
   "execution_count": 11,
   "id": "fb2197e5",
   "metadata": {},
   "outputs": [
    {
     "name": "stdout",
     "output_type": "stream",
     "text": [
      "25895\n",
      "15857\n"
     ]
    }
   ],
   "source": [
    "print(F_vocab_size)\n",
    "print(E_vocab_size)"
   ]
  },
  {
   "cell_type": "code",
   "execution_count": 12,
   "id": "d8dfff64",
   "metadata": {},
   "outputs": [],
   "source": [
    "def E_int_tokenize(text):\n",
    "    text = tokenize_with_punctuation(text)\n",
    "    return [ E_w_to_i.get(word) for word in text]\n",
    "\n",
    "def F_int_tokenize(text):\n",
    "    text = tokenize_with_punctuation(text)\n",
    "    return [ F_w_to_i.get(word) for word in text]"
   ]
  },
  {
   "cell_type": "code",
   "execution_count": 13,
   "id": "ec180825",
   "metadata": {},
   "outputs": [],
   "source": [
    "df['tokenize'] = df['English words/sentences'].apply(tokenize_with_punctuation)\n",
    "df['tokenize_int'] = df['English words/sentences'].apply(E_int_tokenize)"
   ]
  },
  {
   "cell_type": "code",
   "execution_count": 14,
   "id": "470badf5",
   "metadata": {},
   "outputs": [
    {
     "data": {
      "application/vnd.microsoft.datawrangler.viewer.v0+json": {
       "columns": [
        {
         "name": "index",
         "rawType": "int64",
         "type": "integer"
        },
        {
         "name": "English words/sentences",
         "rawType": "object",
         "type": "string"
        },
        {
         "name": "French words/sentences",
         "rawType": "object",
         "type": "string"
        },
        {
         "name": "tokenize",
         "rawType": "object",
         "type": "unknown"
        },
        {
         "name": "tokenize_int",
         "rawType": "object",
         "type": "unknown"
        }
       ],
       "ref": "2c5ce238-da89-4715-92e1-acc2c104ae82",
       "rows": [
        [
         "0",
         "Hi.",
         "Salut!",
         "['Hi', '.']",
         "[12755, 10716]"
        ],
        [
         "1",
         "Run!",
         "Cours !",
         "['Run', '!']",
         "[10350, 5390]"
        ],
        [
         "2",
         "Run!",
         "Courez !",
         "['Run', '!']",
         "[10350, 5390]"
        ],
        [
         "3",
         "Who?",
         "Qui ?",
         "['Who', '?']",
         "[6483, 12005]"
        ],
        [
         "4",
         "Wow!",
         "Ça alors !",
         "['Wow', '!']",
         "[5616, 5390]"
        ],
        [
         "5",
         "Fire!",
         "Au feu !",
         "['Fire', '!']",
         "[15290, 5390]"
        ],
        [
         "6",
         "Help!",
         "À l'aide !",
         "['Help', '!']",
         "[3848, 5390]"
        ],
        [
         "7",
         "Jump.",
         "Saute.",
         "['Jump', '.']",
         "[12448, 10716]"
        ],
        [
         "8",
         "Stop!",
         "Ça suffit !",
         "['Stop', '!']",
         "[125, 5390]"
        ],
        [
         "9",
         "Stop!",
         "Stop !",
         "['Stop', '!']",
         "[125, 5390]"
        ],
        [
         "10",
         "Stop!",
         "Arrête-toi !",
         "['Stop', '!']",
         "[125, 5390]"
        ],
        [
         "11",
         "Wait!",
         "Attends !",
         "['Wait', '!']",
         "[15075, 5390]"
        ],
        [
         "12",
         "Wait!",
         "Attendez !",
         "['Wait', '!']",
         "[15075, 5390]"
        ],
        [
         "13",
         "Go on.",
         "Poursuis.",
         "['Go', 'on', '.']",
         "[15750, 11319, 10716]"
        ],
        [
         "14",
         "Go on.",
         "Continuez.",
         "['Go', 'on', '.']",
         "[15750, 11319, 10716]"
        ],
        [
         "15",
         "Go on.",
         "Poursuivez.",
         "['Go', 'on', '.']",
         "[15750, 11319, 10716]"
        ],
        [
         "16",
         "Hello!",
         "Bonjour !",
         "['Hello', '!']",
         "[2333, 5390]"
        ],
        [
         "17",
         "Hello!",
         "Salut !",
         "['Hello', '!']",
         "[2333, 5390]"
        ],
        [
         "18",
         "I see.",
         "Je comprends.",
         "['I', 'see', '.']",
         "[14925, 8413, 10716]"
        ],
        [
         "19",
         "I try.",
         "J'essaye.",
         "['I', 'try', '.']",
         "[14925, 4046, 10716]"
        ],
        [
         "20",
         "I won!",
         "J'ai gagné !",
         "['I', 'won', '!']",
         "[14925, 8622, 5390]"
        ],
        [
         "21",
         "I won!",
         "Je l'ai emporté !",
         "['I', 'won', '!']",
         "[14925, 8622, 5390]"
        ],
        [
         "22",
         "I won.",
         "J’ai gagné.",
         "['I', 'won', '.']",
         "[14925, 8622, 10716]"
        ],
        [
         "23",
         "Oh no!",
         "Oh non !",
         "['Oh', 'no', '!']",
         "[14099, 4465, 5390]"
        ],
        [
         "24",
         "Attack!",
         "Attaque !",
         "['Attack', '!']",
         "[6793, 5390]"
        ],
        [
         "25",
         "Attack!",
         "Attaquez !",
         "['Attack', '!']",
         "[6793, 5390]"
        ],
        [
         "26",
         "Cheers!",
         "Santé !",
         "['Cheers', '!']",
         "[8994, 5390]"
        ],
        [
         "27",
         "Cheers!",
         "À votre santé !",
         "['Cheers', '!']",
         "[8994, 5390]"
        ],
        [
         "28",
         "Cheers!",
         "Merci !",
         "['Cheers', '!']",
         "[8994, 5390]"
        ],
        [
         "29",
         "Cheers!",
         "Tchin-tchin !",
         "['Cheers', '!']",
         "[8994, 5390]"
        ],
        [
         "30",
         "Get up.",
         "Lève-toi.",
         "['Get', 'up', '.']",
         "[743, 1086, 10716]"
        ],
        [
         "31",
         "Go now.",
         "Va, maintenant.",
         "['Go', 'now', '.']",
         "[15750, 11549, 10716]"
        ],
        [
         "32",
         "Go now.",
         "Allez-y maintenant.",
         "['Go', 'now', '.']",
         "[15750, 11549, 10716]"
        ],
        [
         "33",
         "Go now.",
         "Vas-y maintenant.",
         "['Go', 'now', '.']",
         "[15750, 11549, 10716]"
        ],
        [
         "34",
         "Got it!",
         "J'ai pigé !",
         "['Got', 'it', '!']",
         "[6115, 10567, 5390]"
        ],
        [
         "35",
         "Got it!",
         "Compris !",
         "['Got', 'it', '!']",
         "[6115, 10567, 5390]"
        ],
        [
         "36",
         "Got it?",
         "Pigé ?",
         "['Got', 'it', '?']",
         "[6115, 10567, 12005]"
        ],
        [
         "37",
         "Got it?",
         "Compris ?",
         "['Got', 'it', '?']",
         "[6115, 10567, 12005]"
        ],
        [
         "38",
         "Got it?",
         "T'as capté ?",
         "['Got', 'it', '?']",
         "[6115, 10567, 12005]"
        ],
        [
         "39",
         "Hop in.",
         "Monte.",
         "['Hop', 'in', '.']",
         "[5403, 8120, 10716]"
        ],
        [
         "40",
         "Hop in.",
         "Montez.",
         "['Hop', 'in', '.']",
         "[5403, 8120, 10716]"
        ],
        [
         "41",
         "Hug me.",
         "Serre-moi dans tes bras !",
         "['Hug', 'me', '.']",
         "[7037, 842, 10716]"
        ],
        [
         "42",
         "Hug me.",
         "Serrez-moi dans vos bras !",
         "['Hug', 'me', '.']",
         "[7037, 842, 10716]"
        ],
        [
         "43",
         "I fell.",
         "Je suis tombée.",
         "['I', 'fell', '.']",
         "[14925, 12430, 10716]"
        ],
        [
         "44",
         "I fell.",
         "Je suis tombé.",
         "['I', 'fell', '.']",
         "[14925, 12430, 10716]"
        ],
        [
         "45",
         "I know.",
         "Je sais.",
         "['I', 'know', '.']",
         "[14925, 14750, 10716]"
        ],
        [
         "46",
         "I left.",
         "Je suis parti.",
         "['I', 'left', '.']",
         "[14925, 14987, 10716]"
        ],
        [
         "47",
         "I left.",
         "Je suis partie.",
         "['I', 'left', '.']",
         "[14925, 14987, 10716]"
        ],
        [
         "48",
         "I lied.",
         "J'ai menti.",
         "['I', 'lied', '.']",
         "[14925, 10278, 10716]"
        ],
        [
         "49",
         "I lost.",
         "J'ai perdu.",
         "['I', 'lost', '.']",
         "[14925, 1920, 10716]"
        ]
       ],
       "shape": {
        "columns": 4,
        "rows": 175621
       }
      },
      "text/html": [
       "<div>\n",
       "<style scoped>\n",
       "    .dataframe tbody tr th:only-of-type {\n",
       "        vertical-align: middle;\n",
       "    }\n",
       "\n",
       "    .dataframe tbody tr th {\n",
       "        vertical-align: top;\n",
       "    }\n",
       "\n",
       "    .dataframe thead th {\n",
       "        text-align: right;\n",
       "    }\n",
       "</style>\n",
       "<table border=\"1\" class=\"dataframe\">\n",
       "  <thead>\n",
       "    <tr style=\"text-align: right;\">\n",
       "      <th></th>\n",
       "      <th>English words/sentences</th>\n",
       "      <th>French words/sentences</th>\n",
       "      <th>tokenize</th>\n",
       "      <th>tokenize_int</th>\n",
       "    </tr>\n",
       "  </thead>\n",
       "  <tbody>\n",
       "    <tr>\n",
       "      <th>0</th>\n",
       "      <td>Hi.</td>\n",
       "      <td>Salut!</td>\n",
       "      <td>[Hi, .]</td>\n",
       "      <td>[12755, 10716]</td>\n",
       "    </tr>\n",
       "    <tr>\n",
       "      <th>1</th>\n",
       "      <td>Run!</td>\n",
       "      <td>Cours !</td>\n",
       "      <td>[Run, !]</td>\n",
       "      <td>[10350, 5390]</td>\n",
       "    </tr>\n",
       "    <tr>\n",
       "      <th>2</th>\n",
       "      <td>Run!</td>\n",
       "      <td>Courez !</td>\n",
       "      <td>[Run, !]</td>\n",
       "      <td>[10350, 5390]</td>\n",
       "    </tr>\n",
       "    <tr>\n",
       "      <th>3</th>\n",
       "      <td>Who?</td>\n",
       "      <td>Qui ?</td>\n",
       "      <td>[Who, ?]</td>\n",
       "      <td>[6483, 12005]</td>\n",
       "    </tr>\n",
       "    <tr>\n",
       "      <th>4</th>\n",
       "      <td>Wow!</td>\n",
       "      <td>Ça alors !</td>\n",
       "      <td>[Wow, !]</td>\n",
       "      <td>[5616, 5390]</td>\n",
       "    </tr>\n",
       "    <tr>\n",
       "      <th>...</th>\n",
       "      <td>...</td>\n",
       "      <td>...</td>\n",
       "      <td>...</td>\n",
       "      <td>...</td>\n",
       "    </tr>\n",
       "    <tr>\n",
       "      <th>175616</th>\n",
       "      <td>Top-down economics never works, said Obama. \"T...</td>\n",
       "      <td>« L'économie en partant du haut vers le bas, ç...</td>\n",
       "      <td>[Top, -, down, economics, never, works, ,, sai...</td>\n",
       "      <td>[6470, 12908, 3993, 4144, 10249, 2903, 3734, 2...</td>\n",
       "    </tr>\n",
       "    <tr>\n",
       "      <th>175617</th>\n",
       "      <td>A carbon footprint is the amount of carbon dio...</td>\n",
       "      <td>Une empreinte carbone est la somme de pollutio...</td>\n",
       "      <td>[A, carbon, footprint, is, the, amount, of, ca...</td>\n",
       "      <td>[14145, 6988, 3331, 9980, 9306, 10848, 2062, 6...</td>\n",
       "    </tr>\n",
       "    <tr>\n",
       "      <th>175618</th>\n",
       "      <td>Death is something that we're often discourage...</td>\n",
       "      <td>La mort est une chose qu'on nous décourage sou...</td>\n",
       "      <td>[Death, is, something, that, we, ', re, often,...</td>\n",
       "      <td>[6987, 9980, 5085, 15520, 13193, 11550, 4471, ...</td>\n",
       "    </tr>\n",
       "    <tr>\n",
       "      <th>175619</th>\n",
       "      <td>Since there are usually multiple websites on a...</td>\n",
       "      <td>Puisqu'il y a de multiples sites web sur chaqu...</td>\n",
       "      <td>[Since, there, are, usually, multiple, website...</td>\n",
       "      <td>[6221, 4036, 4904, 150, 5303, 13058, 11319, 12...</td>\n",
       "    </tr>\n",
       "    <tr>\n",
       "      <th>175620</th>\n",
       "      <td>If someone who doesn't know your background sa...</td>\n",
       "      <td>Si quelqu'un qui ne connaît pas vos antécédent...</td>\n",
       "      <td>[If, someone, who, doesn, ', t, know, your, ba...</td>\n",
       "      <td>[13192, 13947, 14808, 4914, 11550, 6752, 14750...</td>\n",
       "    </tr>\n",
       "  </tbody>\n",
       "</table>\n",
       "<p>175621 rows × 4 columns</p>\n",
       "</div>"
      ],
      "text/plain": [
       "                                  English words/sentences  \\\n",
       "0                                                     Hi.   \n",
       "1                                                    Run!   \n",
       "2                                                    Run!   \n",
       "3                                                    Who?   \n",
       "4                                                    Wow!   \n",
       "...                                                   ...   \n",
       "175616  Top-down economics never works, said Obama. \"T...   \n",
       "175617  A carbon footprint is the amount of carbon dio...   \n",
       "175618  Death is something that we're often discourage...   \n",
       "175619  Since there are usually multiple websites on a...   \n",
       "175620  If someone who doesn't know your background sa...   \n",
       "\n",
       "                                   French words/sentences  \\\n",
       "0                                                  Salut!   \n",
       "1                                                 Cours !   \n",
       "2                                                Courez !   \n",
       "3                                                   Qui ?   \n",
       "4                                              Ça alors !   \n",
       "...                                                   ...   \n",
       "175616  « L'économie en partant du haut vers le bas, ç...   \n",
       "175617  Une empreinte carbone est la somme de pollutio...   \n",
       "175618  La mort est une chose qu'on nous décourage sou...   \n",
       "175619  Puisqu'il y a de multiples sites web sur chaqu...   \n",
       "175620  Si quelqu'un qui ne connaît pas vos antécédent...   \n",
       "\n",
       "                                                 tokenize  \\\n",
       "0                                                 [Hi, .]   \n",
       "1                                                [Run, !]   \n",
       "2                                                [Run, !]   \n",
       "3                                                [Who, ?]   \n",
       "4                                                [Wow, !]   \n",
       "...                                                   ...   \n",
       "175616  [Top, -, down, economics, never, works, ,, sai...   \n",
       "175617  [A, carbon, footprint, is, the, amount, of, ca...   \n",
       "175618  [Death, is, something, that, we, ', re, often,...   \n",
       "175619  [Since, there, are, usually, multiple, website...   \n",
       "175620  [If, someone, who, doesn, ', t, know, your, ba...   \n",
       "\n",
       "                                             tokenize_int  \n",
       "0                                          [12755, 10716]  \n",
       "1                                           [10350, 5390]  \n",
       "2                                           [10350, 5390]  \n",
       "3                                           [6483, 12005]  \n",
       "4                                            [5616, 5390]  \n",
       "...                                                   ...  \n",
       "175616  [6470, 12908, 3993, 4144, 10249, 2903, 3734, 2...  \n",
       "175617  [14145, 6988, 3331, 9980, 9306, 10848, 2062, 6...  \n",
       "175618  [6987, 9980, 5085, 15520, 13193, 11550, 4471, ...  \n",
       "175619  [6221, 4036, 4904, 150, 5303, 13058, 11319, 12...  \n",
       "175620  [13192, 13947, 14808, 4914, 11550, 6752, 14750...  \n",
       "\n",
       "[175621 rows x 4 columns]"
      ]
     },
     "execution_count": 14,
     "metadata": {},
     "output_type": "execute_result"
    }
   ],
   "source": [
    "df"
   ]
  },
  {
   "cell_type": "code",
   "execution_count": 27,
   "id": "dbe6ac8d",
   "metadata": {},
   "outputs": [
    {
     "name": "stdout",
     "output_type": "stream",
     "text": [
      "44\n",
      "55\n"
     ]
    }
   ],
   "source": [
    "E_max = max([len(i.split(' ')) for i in df['English words/sentences']])\n",
    "F_max = max([len(i.split(' ')) for i in df['French words/sentences']])\n",
    "print(E_max)\n",
    "print(F_max)"
   ]
  }
 ],
 "metadata": {
  "kernelspec": {
   "display_name": "Python 3",
   "language": "python",
   "name": "python3"
  },
  "language_info": {
   "codemirror_mode": {
    "name": "ipython",
    "version": 3
   },
   "file_extension": ".py",
   "mimetype": "text/x-python",
   "name": "python",
   "nbconvert_exporter": "python",
   "pygments_lexer": "ipython3",
   "version": "3.13.1"
  }
 },
 "nbformat": 4,
 "nbformat_minor": 5
}
