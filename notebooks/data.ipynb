{
 "cells": [
  {
   "cell_type": "code",
   "execution_count": null,
   "id": "2be797d8",
   "metadata": {},
   "outputs": [],
   "source": [
    "import pandas as pd\n",
    "df = pd.read_csv('../data/eng_-french.csv')"
   ]
  },
  {
   "cell_type": "code",
   "execution_count": 2,
   "id": "8a148517",
   "metadata": {},
   "outputs": [
    {
     "data": {
      "application/vnd.microsoft.datawrangler.viewer.v0+json": {
       "columns": [
        {
         "name": "index",
         "rawType": "int64",
         "type": "integer"
        },
        {
         "name": "English words/sentences",
         "rawType": "object",
         "type": "string"
        },
        {
         "name": "French words/sentences",
         "rawType": "object",
         "type": "string"
        }
       ],
       "ref": "347f19dd-94b5-43c3-8ce4-28c67bd6324d",
       "rows": [
        [
         "0",
         "Hi.",
         "Salut!"
        ],
        [
         "1",
         "Run!",
         "Cours !"
        ],
        [
         "2",
         "Run!",
         "Courez !"
        ],
        [
         "3",
         "Who?",
         "Qui ?"
        ],
        [
         "4",
         "Wow!",
         "Ça alors !"
        ]
       ],
       "shape": {
        "columns": 2,
        "rows": 5
       }
      },
      "text/html": [
       "<div>\n",
       "<style scoped>\n",
       "    .dataframe tbody tr th:only-of-type {\n",
       "        vertical-align: middle;\n",
       "    }\n",
       "\n",
       "    .dataframe tbody tr th {\n",
       "        vertical-align: top;\n",
       "    }\n",
       "\n",
       "    .dataframe thead th {\n",
       "        text-align: right;\n",
       "    }\n",
       "</style>\n",
       "<table border=\"1\" class=\"dataframe\">\n",
       "  <thead>\n",
       "    <tr style=\"text-align: right;\">\n",
       "      <th></th>\n",
       "      <th>English words/sentences</th>\n",
       "      <th>French words/sentences</th>\n",
       "    </tr>\n",
       "  </thead>\n",
       "  <tbody>\n",
       "    <tr>\n",
       "      <th>0</th>\n",
       "      <td>Hi.</td>\n",
       "      <td>Salut!</td>\n",
       "    </tr>\n",
       "    <tr>\n",
       "      <th>1</th>\n",
       "      <td>Run!</td>\n",
       "      <td>Cours !</td>\n",
       "    </tr>\n",
       "    <tr>\n",
       "      <th>2</th>\n",
       "      <td>Run!</td>\n",
       "      <td>Courez !</td>\n",
       "    </tr>\n",
       "    <tr>\n",
       "      <th>3</th>\n",
       "      <td>Who?</td>\n",
       "      <td>Qui ?</td>\n",
       "    </tr>\n",
       "    <tr>\n",
       "      <th>4</th>\n",
       "      <td>Wow!</td>\n",
       "      <td>Ça alors !</td>\n",
       "    </tr>\n",
       "  </tbody>\n",
       "</table>\n",
       "</div>"
      ],
      "text/plain": [
       "  English words/sentences French words/sentences\n",
       "0                     Hi.                 Salut!\n",
       "1                    Run!                Cours !\n",
       "2                    Run!               Courez !\n",
       "3                    Who?                  Qui ?\n",
       "4                    Wow!             Ça alors !"
      ]
     },
     "execution_count": 2,
     "metadata": {},
     "output_type": "execute_result"
    }
   ],
   "source": [
    "df.head()"
   ]
  },
  {
   "cell_type": "code",
   "execution_count": 3,
   "id": "1035dd37",
   "metadata": {},
   "outputs": [
    {
     "data": {
      "application/vnd.microsoft.datawrangler.viewer.v0+json": {
       "columns": [
        {
         "name": "index",
         "rawType": "object",
         "type": "string"
        },
        {
         "name": "0",
         "rawType": "int64",
         "type": "integer"
        }
       ],
       "ref": "afa72008-dc3f-4585-9b08-7b5704997163",
       "rows": [
        [
         "English words/sentences",
         "0"
        ],
        [
         "French words/sentences",
         "0"
        ]
       ],
       "shape": {
        "columns": 1,
        "rows": 2
       }
      },
      "text/plain": [
       "English words/sentences    0\n",
       "French words/sentences     0\n",
       "dtype: int64"
      ]
     },
     "execution_count": 3,
     "metadata": {},
     "output_type": "execute_result"
    }
   ],
   "source": [
    "df.isna().sum()"
   ]
  },
  {
   "cell_type": "code",
   "execution_count": 4,
   "id": "54d91530",
   "metadata": {},
   "outputs": [
    {
     "name": "stdout",
     "output_type": "stream",
     "text": [
      "<class 'pandas.core.frame.DataFrame'>\n",
      "RangeIndex: 175621 entries, 0 to 175620\n",
      "Data columns (total 2 columns):\n",
      " #   Column                   Non-Null Count   Dtype \n",
      "---  ------                   --------------   ----- \n",
      " 0   English words/sentences  175621 non-null  object\n",
      " 1   French words/sentences   175621 non-null  object\n",
      "dtypes: object(2)\n",
      "memory usage: 2.7+ MB\n"
     ]
    }
   ],
   "source": [
    "df.info()"
   ]
  },
  {
   "cell_type": "code",
   "execution_count": 31,
   "id": "60a3c192",
   "metadata": {},
   "outputs": [],
   "source": [
    "import re\n",
    "\n",
    "def tokenize_with_punctuation(text):\n",
    "    # This regex splits on words and punctuation, keeping both\n",
    "    return re.findall(r\"\\w+|[^\\w\\s]\", text, re.UNICODE)\n",
    "\n",
    "\n",
    "english_sentence = \" \".join(df['English words/sentences'])\n",
    "english_tokens = tokenize_with_punctuation(english_sentence)\n",
    "\n",
    "french_sentence = \" \".join(df['French words/sentences'])\n",
    "french_tokens = tokenize_with_punctuation(french_sentence)"
   ]
  },
  {
   "cell_type": "code",
   "execution_count": 32,
   "id": "b268eb9e",
   "metadata": {},
   "outputs": [
    {
     "name": "stdout",
     "output_type": "stream",
     "text": [
      "['Salut', '!', 'Cours', '!', 'Courez']\n"
     ]
    }
   ],
   "source": [
    "print(french_tokens[:5])"
   ]
  },
  {
   "cell_type": "code",
   "execution_count": 33,
   "id": "73e31160",
   "metadata": {},
   "outputs": [
    {
     "data": {
      "text/plain": [
       "25893"
      ]
     },
     "execution_count": 33,
     "metadata": {},
     "output_type": "execute_result"
    }
   ],
   "source": [
    "len(set(french_tokens))"
   ]
  },
  {
   "cell_type": "code",
   "execution_count": 35,
   "id": "b4d4a95c",
   "metadata": {},
   "outputs": [],
   "source": [
    "E_w_to_i = {k:i+2 for i, k in enumerate(set(english_tokens))}\n",
    "E_w_to_i ['sos'] = 0\n",
    "E_w_to_i ['eos'] = 1\n",
    "E_i_to_w = {i: k for k, i in E_w_to_i.items()}"
   ]
  },
  {
   "cell_type": "code",
   "execution_count": 36,
   "id": "f3cdb9ee",
   "metadata": {},
   "outputs": [],
   "source": [
    "F_w_to_i = {k:i+2 for i, k in enumerate(set(french_tokens))}\n",
    "F_w_to_i['sos'] = 0\n",
    "F_w_to_i['eos'] = 1\n",
    "F_i_to_w = {i: k for k, i in F_w_to_i.items()}"
   ]
  },
  {
   "cell_type": "code",
   "execution_count": 38,
   "id": "c35db310",
   "metadata": {},
   "outputs": [],
   "source": [
    "F_vocab_size = len(F_i_to_w.values())\n",
    "E_vocab_size = len(E_i_to_w.values())"
   ]
  },
  {
   "cell_type": "code",
   "execution_count": 42,
   "id": "fb2197e5",
   "metadata": {},
   "outputs": [
    {
     "name": "stdout",
     "output_type": "stream",
     "text": [
      "25895\n",
      "15857\n"
     ]
    }
   ],
   "source": [
    "print(F_vocab_size)\n",
    "print(E_vocab_size)"
   ]
  },
  {
   "cell_type": "code",
   "execution_count": 47,
   "id": "d8dfff64",
   "metadata": {},
   "outputs": [],
   "source": [
    "def E_int_tokenize(text):\n",
    "    text = tokenize_with_punctuation(text)\n",
    "    return [ E_w_to_i.get(word) for word in text]\n",
    "\n",
    "def F_int_tokenize(text):\n",
    "    text = tokenize_with_punctuation(text)\n",
    "    return [ F_w_to_i.get(word) for word in text]"
   ]
  },
  {
   "cell_type": "code",
   "execution_count": 48,
   "id": "ec180825",
   "metadata": {},
   "outputs": [],
   "source": [
    "df['tokenize'] = df['English words/sentences'].apply(tokenize_with_punctuation)\n",
    "df['tokenize_int'] = df['English words/sentences'].apply(E_int_tokenize)"
   ]
  },
  {
   "cell_type": "code",
   "execution_count": 49,
   "id": "470badf5",
   "metadata": {},
   "outputs": [
    {
     "data": {
      "application/vnd.microsoft.datawrangler.viewer.v0+json": {
       "columns": [
        {
         "name": "index",
         "rawType": "int64",
         "type": "integer"
        },
        {
         "name": "English words/sentences",
         "rawType": "object",
         "type": "string"
        },
        {
         "name": "French words/sentences",
         "rawType": "object",
         "type": "string"
        },
        {
         "name": "tokenize",
         "rawType": "object",
         "type": "unknown"
        },
        {
         "name": "tokenize_int",
         "rawType": "object",
         "type": "unknown"
        }
       ],
       "ref": "dbd54329-c3e9-4702-b5cc-090958c3893d",
       "rows": [
        [
         "0",
         "Hi.",
         "Salut!",
         "['Hi', '.']",
         "[5305, 10360]"
        ],
        [
         "1",
         "Run!",
         "Cours !",
         "['Run', '!']",
         "[14795, 7777]"
        ],
        [
         "2",
         "Run!",
         "Courez !",
         "['Run', '!']",
         "[14795, 7777]"
        ],
        [
         "3",
         "Who?",
         "Qui ?",
         "['Who', '?']",
         "[4640, 7854]"
        ],
        [
         "4",
         "Wow!",
         "Ça alors !",
         "['Wow', '!']",
         "[1841, 7777]"
        ],
        [
         "5",
         "Fire!",
         "Au feu !",
         "['Fire', '!']",
         "[10967, 7777]"
        ],
        [
         "6",
         "Help!",
         "À l'aide !",
         "['Help', '!']",
         "[15309, 7777]"
        ],
        [
         "7",
         "Jump.",
         "Saute.",
         "['Jump', '.']",
         "[11894, 10360]"
        ],
        [
         "8",
         "Stop!",
         "Ça suffit !",
         "['Stop', '!']",
         "[3957, 7777]"
        ],
        [
         "9",
         "Stop!",
         "Stop !",
         "['Stop', '!']",
         "[3957, 7777]"
        ],
        [
         "10",
         "Stop!",
         "Arrête-toi !",
         "['Stop', '!']",
         "[3957, 7777]"
        ],
        [
         "11",
         "Wait!",
         "Attends !",
         "['Wait', '!']",
         "[6952, 7777]"
        ],
        [
         "12",
         "Wait!",
         "Attendez !",
         "['Wait', '!']",
         "[6952, 7777]"
        ],
        [
         "13",
         "Go on.",
         "Poursuis.",
         "['Go', 'on', '.']",
         "[10591, 14246, 10360]"
        ],
        [
         "14",
         "Go on.",
         "Continuez.",
         "['Go', 'on', '.']",
         "[10591, 14246, 10360]"
        ],
        [
         "15",
         "Go on.",
         "Poursuivez.",
         "['Go', 'on', '.']",
         "[10591, 14246, 10360]"
        ],
        [
         "16",
         "Hello!",
         "Bonjour !",
         "['Hello', '!']",
         "[12181, 7777]"
        ],
        [
         "17",
         "Hello!",
         "Salut !",
         "['Hello', '!']",
         "[12181, 7777]"
        ],
        [
         "18",
         "I see.",
         "Je comprends.",
         "['I', 'see', '.']",
         "[13860, 13961, 10360]"
        ],
        [
         "19",
         "I try.",
         "J'essaye.",
         "['I', 'try', '.']",
         "[13860, 7335, 10360]"
        ],
        [
         "20",
         "I won!",
         "J'ai gagné !",
         "['I', 'won', '!']",
         "[13860, 6920, 7777]"
        ],
        [
         "21",
         "I won!",
         "Je l'ai emporté !",
         "['I', 'won', '!']",
         "[13860, 6920, 7777]"
        ],
        [
         "22",
         "I won.",
         "J’ai gagné.",
         "['I', 'won', '.']",
         "[13860, 6920, 10360]"
        ],
        [
         "23",
         "Oh no!",
         "Oh non !",
         "['Oh', 'no', '!']",
         "[2728, 3709, 7777]"
        ],
        [
         "24",
         "Attack!",
         "Attaque !",
         "['Attack', '!']",
         "[14564, 7777]"
        ],
        [
         "25",
         "Attack!",
         "Attaquez !",
         "['Attack', '!']",
         "[14564, 7777]"
        ],
        [
         "26",
         "Cheers!",
         "Santé !",
         "['Cheers', '!']",
         "[5370, 7777]"
        ],
        [
         "27",
         "Cheers!",
         "À votre santé !",
         "['Cheers', '!']",
         "[5370, 7777]"
        ],
        [
         "28",
         "Cheers!",
         "Merci !",
         "['Cheers', '!']",
         "[5370, 7777]"
        ],
        [
         "29",
         "Cheers!",
         "Tchin-tchin !",
         "['Cheers', '!']",
         "[5370, 7777]"
        ],
        [
         "30",
         "Get up.",
         "Lève-toi.",
         "['Get', 'up', '.']",
         "[3585, 6069, 10360]"
        ],
        [
         "31",
         "Go now.",
         "Va, maintenant.",
         "['Go', 'now', '.']",
         "[10591, 9881, 10360]"
        ],
        [
         "32",
         "Go now.",
         "Allez-y maintenant.",
         "['Go', 'now', '.']",
         "[10591, 9881, 10360]"
        ],
        [
         "33",
         "Go now.",
         "Vas-y maintenant.",
         "['Go', 'now', '.']",
         "[10591, 9881, 10360]"
        ],
        [
         "34",
         "Got it!",
         "J'ai pigé !",
         "['Got', 'it', '!']",
         "[301, 3206, 7777]"
        ],
        [
         "35",
         "Got it!",
         "Compris !",
         "['Got', 'it', '!']",
         "[301, 3206, 7777]"
        ],
        [
         "36",
         "Got it?",
         "Pigé ?",
         "['Got', 'it', '?']",
         "[301, 3206, 7854]"
        ],
        [
         "37",
         "Got it?",
         "Compris ?",
         "['Got', 'it', '?']",
         "[301, 3206, 7854]"
        ],
        [
         "38",
         "Got it?",
         "T'as capté ?",
         "['Got', 'it', '?']",
         "[301, 3206, 7854]"
        ],
        [
         "39",
         "Hop in.",
         "Monte.",
         "['Hop', 'in', '.']",
         "[14306, 3961, 10360]"
        ],
        [
         "40",
         "Hop in.",
         "Montez.",
         "['Hop', 'in', '.']",
         "[14306, 3961, 10360]"
        ],
        [
         "41",
         "Hug me.",
         "Serre-moi dans tes bras !",
         "['Hug', 'me', '.']",
         "[12129, 6491, 10360]"
        ],
        [
         "42",
         "Hug me.",
         "Serrez-moi dans vos bras !",
         "['Hug', 'me', '.']",
         "[12129, 6491, 10360]"
        ],
        [
         "43",
         "I fell.",
         "Je suis tombée.",
         "['I', 'fell', '.']",
         "[13860, 798, 10360]"
        ],
        [
         "44",
         "I fell.",
         "Je suis tombé.",
         "['I', 'fell', '.']",
         "[13860, 798, 10360]"
        ],
        [
         "45",
         "I know.",
         "Je sais.",
         "['I', 'know', '.']",
         "[13860, 10075, 10360]"
        ],
        [
         "46",
         "I left.",
         "Je suis parti.",
         "['I', 'left', '.']",
         "[13860, 2397, 10360]"
        ],
        [
         "47",
         "I left.",
         "Je suis partie.",
         "['I', 'left', '.']",
         "[13860, 2397, 10360]"
        ],
        [
         "48",
         "I lied.",
         "J'ai menti.",
         "['I', 'lied', '.']",
         "[13860, 386, 10360]"
        ],
        [
         "49",
         "I lost.",
         "J'ai perdu.",
         "['I', 'lost', '.']",
         "[13860, 626, 10360]"
        ]
       ],
       "shape": {
        "columns": 4,
        "rows": 175621
       }
      },
      "text/html": [
       "<div>\n",
       "<style scoped>\n",
       "    .dataframe tbody tr th:only-of-type {\n",
       "        vertical-align: middle;\n",
       "    }\n",
       "\n",
       "    .dataframe tbody tr th {\n",
       "        vertical-align: top;\n",
       "    }\n",
       "\n",
       "    .dataframe thead th {\n",
       "        text-align: right;\n",
       "    }\n",
       "</style>\n",
       "<table border=\"1\" class=\"dataframe\">\n",
       "  <thead>\n",
       "    <tr style=\"text-align: right;\">\n",
       "      <th></th>\n",
       "      <th>English words/sentences</th>\n",
       "      <th>French words/sentences</th>\n",
       "      <th>tokenize</th>\n",
       "      <th>tokenize_int</th>\n",
       "    </tr>\n",
       "  </thead>\n",
       "  <tbody>\n",
       "    <tr>\n",
       "      <th>0</th>\n",
       "      <td>Hi.</td>\n",
       "      <td>Salut!</td>\n",
       "      <td>[Hi, .]</td>\n",
       "      <td>[5305, 10360]</td>\n",
       "    </tr>\n",
       "    <tr>\n",
       "      <th>1</th>\n",
       "      <td>Run!</td>\n",
       "      <td>Cours !</td>\n",
       "      <td>[Run, !]</td>\n",
       "      <td>[14795, 7777]</td>\n",
       "    </tr>\n",
       "    <tr>\n",
       "      <th>2</th>\n",
       "      <td>Run!</td>\n",
       "      <td>Courez !</td>\n",
       "      <td>[Run, !]</td>\n",
       "      <td>[14795, 7777]</td>\n",
       "    </tr>\n",
       "    <tr>\n",
       "      <th>3</th>\n",
       "      <td>Who?</td>\n",
       "      <td>Qui ?</td>\n",
       "      <td>[Who, ?]</td>\n",
       "      <td>[4640, 7854]</td>\n",
       "    </tr>\n",
       "    <tr>\n",
       "      <th>4</th>\n",
       "      <td>Wow!</td>\n",
       "      <td>Ça alors !</td>\n",
       "      <td>[Wow, !]</td>\n",
       "      <td>[1841, 7777]</td>\n",
       "    </tr>\n",
       "    <tr>\n",
       "      <th>...</th>\n",
       "      <td>...</td>\n",
       "      <td>...</td>\n",
       "      <td>...</td>\n",
       "      <td>...</td>\n",
       "    </tr>\n",
       "    <tr>\n",
       "      <th>175616</th>\n",
       "      <td>Top-down economics never works, said Obama. \"T...</td>\n",
       "      <td>« L'économie en partant du haut vers le bas, ç...</td>\n",
       "      <td>[Top, -, down, economics, never, works, ,, sai...</td>\n",
       "      <td>[6168, 8199, 10733, 7746, 13491, 1318, 13503, ...</td>\n",
       "    </tr>\n",
       "    <tr>\n",
       "      <th>175617</th>\n",
       "      <td>A carbon footprint is the amount of carbon dio...</td>\n",
       "      <td>Une empreinte carbone est la somme de pollutio...</td>\n",
       "      <td>[A, carbon, footprint, is, the, amount, of, ca...</td>\n",
       "      <td>[9827, 7593, 4482, 3699, 10495, 763, 13277, 75...</td>\n",
       "    </tr>\n",
       "    <tr>\n",
       "      <th>175618</th>\n",
       "      <td>Death is something that we're often discourage...</td>\n",
       "      <td>La mort est une chose qu'on nous décourage sou...</td>\n",
       "      <td>[Death, is, something, that, we, ', re, often,...</td>\n",
       "      <td>[9712, 3699, 13829, 9470, 1499, 8941, 14587, 1...</td>\n",
       "    </tr>\n",
       "    <tr>\n",
       "      <th>175619</th>\n",
       "      <td>Since there are usually multiple websites on a...</td>\n",
       "      <td>Puisqu'il y a de multiples sites web sur chaqu...</td>\n",
       "      <td>[Since, there, are, usually, multiple, website...</td>\n",
       "      <td>[13496, 6093, 2936, 4973, 14967, 11386, 14246,...</td>\n",
       "    </tr>\n",
       "    <tr>\n",
       "      <th>175620</th>\n",
       "      <td>If someone who doesn't know your background sa...</td>\n",
       "      <td>Si quelqu'un qui ne connaît pas vos antécédent...</td>\n",
       "      <td>[If, someone, who, doesn, ', t, know, your, ba...</td>\n",
       "      <td>[10513, 11871, 13005, 3669, 8941, 7355, 10075,...</td>\n",
       "    </tr>\n",
       "  </tbody>\n",
       "</table>\n",
       "<p>175621 rows × 4 columns</p>\n",
       "</div>"
      ],
      "text/plain": [
       "                                  English words/sentences  \\\n",
       "0                                                     Hi.   \n",
       "1                                                    Run!   \n",
       "2                                                    Run!   \n",
       "3                                                    Who?   \n",
       "4                                                    Wow!   \n",
       "...                                                   ...   \n",
       "175616  Top-down economics never works, said Obama. \"T...   \n",
       "175617  A carbon footprint is the amount of carbon dio...   \n",
       "175618  Death is something that we're often discourage...   \n",
       "175619  Since there are usually multiple websites on a...   \n",
       "175620  If someone who doesn't know your background sa...   \n",
       "\n",
       "                                   French words/sentences  \\\n",
       "0                                                  Salut!   \n",
       "1                                                 Cours !   \n",
       "2                                                Courez !   \n",
       "3                                                   Qui ?   \n",
       "4                                              Ça alors !   \n",
       "...                                                   ...   \n",
       "175616  « L'économie en partant du haut vers le bas, ç...   \n",
       "175617  Une empreinte carbone est la somme de pollutio...   \n",
       "175618  La mort est une chose qu'on nous décourage sou...   \n",
       "175619  Puisqu'il y a de multiples sites web sur chaqu...   \n",
       "175620  Si quelqu'un qui ne connaît pas vos antécédent...   \n",
       "\n",
       "                                                 tokenize  \\\n",
       "0                                                 [Hi, .]   \n",
       "1                                                [Run, !]   \n",
       "2                                                [Run, !]   \n",
       "3                                                [Who, ?]   \n",
       "4                                                [Wow, !]   \n",
       "...                                                   ...   \n",
       "175616  [Top, -, down, economics, never, works, ,, sai...   \n",
       "175617  [A, carbon, footprint, is, the, amount, of, ca...   \n",
       "175618  [Death, is, something, that, we, ', re, often,...   \n",
       "175619  [Since, there, are, usually, multiple, website...   \n",
       "175620  [If, someone, who, doesn, ', t, know, your, ba...   \n",
       "\n",
       "                                             tokenize_int  \n",
       "0                                           [5305, 10360]  \n",
       "1                                           [14795, 7777]  \n",
       "2                                           [14795, 7777]  \n",
       "3                                            [4640, 7854]  \n",
       "4                                            [1841, 7777]  \n",
       "...                                                   ...  \n",
       "175616  [6168, 8199, 10733, 7746, 13491, 1318, 13503, ...  \n",
       "175617  [9827, 7593, 4482, 3699, 10495, 763, 13277, 75...  \n",
       "175618  [9712, 3699, 13829, 9470, 1499, 8941, 14587, 1...  \n",
       "175619  [13496, 6093, 2936, 4973, 14967, 11386, 14246,...  \n",
       "175620  [10513, 11871, 13005, 3669, 8941, 7355, 10075,...  \n",
       "\n",
       "[175621 rows x 4 columns]"
      ]
     },
     "execution_count": 49,
     "metadata": {},
     "output_type": "execute_result"
    }
   ],
   "source": [
    "df"
   ]
  }
 ],
 "metadata": {
  "kernelspec": {
   "display_name": "Python 3",
   "language": "python",
   "name": "python3"
  },
  "language_info": {
   "codemirror_mode": {
    "name": "ipython",
    "version": 3
   },
   "file_extension": ".py",
   "mimetype": "text/x-python",
   "name": "python",
   "nbconvert_exporter": "python",
   "pygments_lexer": "ipython3",
   "version": "3.13.1"
  }
 },
 "nbformat": 4,
 "nbformat_minor": 5
}
